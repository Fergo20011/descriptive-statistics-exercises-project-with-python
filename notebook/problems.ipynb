{
    "cells": [
        {
            "cell_type": "markdown",
            "id": "ac622319",
            "metadata": {},
            "source": [
                "# Descriptive statistics problems"
            ]
        },
        {
            "cell_type": "markdown",
            "id": "5e0ab0d5",
            "metadata": {},
            "source": [
                "### Exercise 1\n",
                "\n",
                "We will use NumPy to obtain information to describe statistically.\n",
                "\n",
                "- Generate an array of 100 elements following a normal distribution.\n",
                "- Generate an array of 100 elements following a chi-square distribution with 3 degrees of freedom.\n",
                "- Calculate the main metrics and statistical measures that best describe the two vectors."
            ]
        },
        {
            "cell_type": "code",
            "execution_count": 77,
            "id": "34720ab6",
            "metadata": {},
            "outputs": [],
            "source": [
                "# TODO\n",
                "import numpy as np \n",
                "\n",
                "normal = np.random.normal(size=100)\n",
                "chi2 = np.random.chisquare(3,100)\n",
                "\n",
                "\n"
            ]
        },
        {
            "cell_type": "code",
            "execution_count": 78,
            "id": "5ecfb873",
            "metadata": {},
            "outputs": [
                {
                    "name": "stdout",
                    "output_type": "stream",
                    "text": [
                        "Media Normal: -0.03931977988450242\n",
                        "Media Chi2: 2.983152949915189\n"
                    ]
                }
            ],
            "source": [
                "import statistics as stats \n",
                "\n",
                "print(f'Media Normal: {stats.mean(normal)}')\n",
                "print(f'Media Chi2: {stats.mean(chi2)}')\n",
                "\n"
            ]
        },
        {
            "cell_type": "code",
            "execution_count": 79,
            "id": "56d94bfb",
            "metadata": {},
            "outputs": [
                {
                    "name": "stdout",
                    "output_type": "stream",
                    "text": [
                        "Mediana Normal: -0.09802521855932533\n",
                        "Mediana Chi2: 2.5082152448541795\n"
                    ]
                }
            ],
            "source": [
                "print(f'Mediana Normal: {stats.median(normal)}')\n",
                "print(f'Mediana Chi2: {stats.median(chi2)}')"
            ]
        },
        {
            "cell_type": "code",
            "execution_count": 80,
            "id": "fb1c636a",
            "metadata": {},
            "outputs": [
                {
                    "name": "stdout",
                    "output_type": "stream",
                    "text": [
                        "Moda Normal: -0.6939419627653036\n",
                        "Moda Chi2: 3.3315247904300005\n"
                    ]
                }
            ],
            "source": [
                "print(f'Moda Normal: {stats.mode(normal)}')\n",
                "print(f'Moda Chi2: {stats.mode(chi2)}')"
            ]
        },
        {
            "cell_type": "code",
            "execution_count": 81,
            "id": "edfcd4df",
            "metadata": {},
            "outputs": [
                {
                    "name": "stdout",
                    "output_type": "stream",
                    "text": [
                        "Rango Normal: 4.939217124985115\n",
                        "Rango Chi2: 15.049543235606798\n"
                    ]
                }
            ],
            "source": [
                "rango_normal = max(normal) - min(normal)\n",
                "rango_chi2 = max(chi2) - min(chi2)\n",
                "\n",
                "print(f'Rango Normal: {rango_normal}')\n",
                "print(f'Rango Chi2: {rango_chi2}')"
            ]
        },
        {
            "cell_type": "code",
            "execution_count": 82,
            "id": "88a1d856",
            "metadata": {},
            "outputs": [
                {
                    "name": "stdout",
                    "output_type": "stream",
                    "text": [
                        "Varianza Normal: 1.2696008720722858\n",
                        "Varianza Chi2: 5.862174489978755\n",
                        "Desviacion Estandar Normal: 1.1267656686606518\n",
                        "Desviacion Estandar Chi2:2.421192782489398\n"
                    ]
                }
            ],
            "source": [
                "print(f'Varianza Normal: { stats.variance(normal)}')\n",
                "print(f'Varianza Chi2: {stats.variance(chi2)}')\n",
                "print(f'Desviacion Estandar Normal: {stats.stdev(normal)}')\n",
                "print(f'Desviacion Estandar Chi2:{stats.stdev(chi2)}')\n"
            ]
        },
        {
            "cell_type": "code",
            "execution_count": 83,
            "id": "671f9982",
            "metadata": {},
            "outputs": [
                {
                    "name": "stdout",
                    "output_type": "stream",
                    "text": [
                        "Simetria Normal: -0.025657374503808332\n",
                        "Simetria Chi2: 2.337298700321549\n"
                    ]
                }
            ],
            "source": [
                "from scipy.stats import skew\n",
                "from scipy.stats import kurtosis\n",
                "\n",
                "print(f'Simetria Normal: {skew(normal)}')\n",
                "print(f'Simetria Chi2: {skew(chi2)}')"
            ]
        },
        {
            "cell_type": "code",
            "execution_count": 84,
            "id": "e418caa2",
            "metadata": {},
            "outputs": [
                {
                    "name": "stdout",
                    "output_type": "stream",
                    "text": [
                        "kurtosis Normal: -0.6370664399221297\n",
                        "kurtosis Chi2: 7.942454932360565\n"
                    ]
                }
            ],
            "source": [
                "print(f'kurtosis Normal: {kurtosis(normal)}')\n",
                "print(f'kurtosis Chi2: {kurtosis(chi2)}')"
            ]
        },
        {
            "cell_type": "markdown",
            "id": "46c70c3d",
            "metadata": {},
            "source": [
                "### Exercise 2\n",
                "\n",
                "Write a Python program to calculate the standard deviation of the following data:\n",
                "\n",
                "```py\n",
                "data = [4, 2, 5, 8, 6]\n",
                "```"
            ]
        },
        {
            "cell_type": "code",
            "execution_count": 85,
            "id": "d590308e",
            "metadata": {},
            "outputs": [
                {
                    "name": "stdout",
                    "output_type": "stream",
                    "text": [
                        "Datos para calcular: [4, 2, 5, 8, 6]\n",
                        "Desviacion Estandar: 2.23606797749979\n",
                        "Desviacion Estandar Stats: 2.23606797749979\n"
                    ]
                }
            ],
            "source": [
                "# TODO\n",
                "import math\n",
                "\n",
                "def media(lista):\n",
                "    suma = sum(lista)\n",
                "    promedio = suma/len(lista)\n",
                "    return promedio\n",
                "\n",
                "data = [4,2,5,8,6]\n",
                "\n",
                "test = [1,2,5]\n",
                "\n",
                "media(test)\n",
                "\n",
                "def devest(lista):\n",
                "    promedio = media(lista)\n",
                "    sumatoria = 0 \n",
                "    for elemento in lista :\n",
                "        sumatoria += (elemento - promedio) ** 2\n",
                "    prom_distancias = sumatoria / (len(lista)-1)\n",
                "    de = math.sqrt(prom_distancias)\n",
                "    return de\n",
                "\n",
                "print (f'Datos para calcular: {data}')\n",
                "print(f'Desviacion Estandar: {devest(data)}')\n",
                "print(f'Desviacion Estandar Stats: {stats.stdev(data)}') "
            ]
        }
    ],
    "metadata": {
        "kernelspec": {
            "display_name": "Python 3",
            "language": "python",
            "name": "python3"
        },
        "language_info": {
            "codemirror_mode": {
                "name": "ipython",
                "version": 3
            },
            "file_extension": ".py",
            "mimetype": "text/x-python",
            "name": "python",
            "nbconvert_exporter": "python",
            "pygments_lexer": "ipython3",
            "version": "3.11.4"
        }
    },
    "nbformat": 4,
    "nbformat_minor": 5
}
